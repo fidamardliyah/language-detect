{
  "nbformat": 4,
  "nbformat_minor": 0,
  "metadata": {
    "colab": {
      "name": "Tugas NLP.ipynb",
      "provenance": [],
      "collapsed_sections": []
    },
    "kernelspec": {
      "name": "python3",
      "display_name": "Python 3"
    },
    "language_info": {
      "name": "python"
    }
  },
  "cells": [
    {
      "cell_type": "markdown",
      "metadata": {
        "id": "rjNps_xI-kYL"
      },
      "source": [
        "# Biodata"
      ]
    },
    {
      "cell_type": "markdown",
      "metadata": {
        "id": "ZC9UD7gH-rz5"
      },
      "source": [
        "**Fida Mardliyah // fidamardliyah11@gmail.com**\n",
        "\n",
        "Sumber Data : https://www.kaggle.com/ishantjuyal/language-detection-dataset"
      ]
    },
    {
      "cell_type": "markdown",
      "metadata": {
        "id": "GAFc0Siq-6bq"
      },
      "source": [
        "# Import Data"
      ]
    },
    {
      "cell_type": "code",
      "metadata": {
        "id": "7brWkk7pQVsZ"
      },
      "source": [
        "import pandas as pd\n",
        "import numpy as np"
      ],
      "execution_count": 1,
      "outputs": []
    },
    {
      "cell_type": "code",
      "metadata": {
        "id": "ToO6zct3AE_Q"
      },
      "source": [
        "data = pd.read_csv('languages.csv')"
      ],
      "execution_count": 3,
      "outputs": []
    },
    {
      "cell_type": "code",
      "metadata": {
        "colab": {
          "base_uri": "https://localhost:8080/",
          "height": 204
        },
        "id": "CSFP6D0cAnDH",
        "outputId": "d36ccb15-53c2-4fad-bbbf-ac2a7ae6571d"
      },
      "source": [
        "data.head()"
      ],
      "execution_count": 4,
      "outputs": [
        {
          "output_type": "execute_result",
          "data": {
            "text/html": [
              "<div>\n",
              "<style scoped>\n",
              "    .dataframe tbody tr th:only-of-type {\n",
              "        vertical-align: middle;\n",
              "    }\n",
              "\n",
              "    .dataframe tbody tr th {\n",
              "        vertical-align: top;\n",
              "    }\n",
              "\n",
              "    .dataframe thead th {\n",
              "        text-align: right;\n",
              "    }\n",
              "</style>\n",
              "<table border=\"1\" class=\"dataframe\">\n",
              "  <thead>\n",
              "    <tr style=\"text-align: right;\">\n",
              "      <th></th>\n",
              "      <th>text</th>\n",
              "      <th>language</th>\n",
              "    </tr>\n",
              "  </thead>\n",
              "  <tbody>\n",
              "    <tr>\n",
              "      <th>0</th>\n",
              "      <td>ich denke es handelt sich hier um ein missvers...</td>\n",
              "      <td>german</td>\n",
              "    </tr>\n",
              "    <tr>\n",
              "      <th>1</th>\n",
              "      <td>ich habe tom gerade erst verlassen</td>\n",
              "      <td>german</td>\n",
              "    </tr>\n",
              "    <tr>\n",
              "      <th>2</th>\n",
              "      <td>tom versuchte mary nur zu ärgern</td>\n",
              "      <td>german</td>\n",
              "    </tr>\n",
              "    <tr>\n",
              "      <th>3</th>\n",
              "      <td>tom hat mir die hand geküsst</td>\n",
              "      <td>german</td>\n",
              "    </tr>\n",
              "    <tr>\n",
              "      <th>4</th>\n",
              "      <td>ich wusste dass dir das gefiele</td>\n",
              "      <td>german</td>\n",
              "    </tr>\n",
              "  </tbody>\n",
              "</table>\n",
              "</div>"
            ],
            "text/plain": [
              "                                                text language\n",
              "0  ich denke es handelt sich hier um ein missvers...   german\n",
              "1                 ich habe tom gerade erst verlassen   german\n",
              "2                   tom versuchte mary nur zu ärgern   german\n",
              "3                       tom hat mir die hand geküsst   german\n",
              "4                    ich wusste dass dir das gefiele   german"
            ]
          },
          "metadata": {
            "tags": []
          },
          "execution_count": 4
        }
      ]
    },
    {
      "cell_type": "code",
      "metadata": {
        "colab": {
          "base_uri": "https://localhost:8080/"
        },
        "id": "9-2xO0JkAzQM",
        "outputId": "c0963910-43f7-4064-b4b8-8d88ff2287a7"
      },
      "source": [
        "data.info()"
      ],
      "execution_count": 5,
      "outputs": [
        {
          "output_type": "stream",
          "text": [
            "<class 'pandas.core.frame.DataFrame'>\n",
            "RangeIndex: 517287 entries, 0 to 517286\n",
            "Data columns (total 2 columns):\n",
            " #   Column    Non-Null Count   Dtype \n",
            "---  ------    --------------   ----- \n",
            " 0   text      517287 non-null  object\n",
            " 1   language  517286 non-null  object\n",
            "dtypes: object(2)\n",
            "memory usage: 7.9+ MB\n"
          ],
          "name": "stdout"
        }
      ]
    },
    {
      "cell_type": "code",
      "metadata": {
        "colab": {
          "base_uri": "https://localhost:8080/"
        },
        "id": "3GDiz8d2IH2A",
        "outputId": "799a299b-63c9-4a63-c8e3-804017fd4c4d"
      },
      "source": [
        "data.shape"
      ],
      "execution_count": 6,
      "outputs": [
        {
          "output_type": "execute_result",
          "data": {
            "text/plain": [
              "(517287, 2)"
            ]
          },
          "metadata": {
            "tags": []
          },
          "execution_count": 6
        }
      ]
    },
    {
      "cell_type": "markdown",
      "metadata": {
        "id": "i9UGbxsABUY3"
      },
      "source": [
        "# Preprocessing"
      ]
    },
    {
      "cell_type": "markdown",
      "metadata": {
        "id": "YjGYnLaNH5Qn"
      },
      "source": [
        "## Missing Value"
      ]
    },
    {
      "cell_type": "code",
      "metadata": {
        "colab": {
          "base_uri": "https://localhost:8080/"
        },
        "id": "hWRaDBJ_A81T",
        "outputId": "3d5687e1-83a1-43d3-e842-7fca7d019ac5"
      },
      "source": [
        "data.isnull().values.any()"
      ],
      "execution_count": 7,
      "outputs": [
        {
          "output_type": "execute_result",
          "data": {
            "text/plain": [
              "True"
            ]
          },
          "metadata": {
            "tags": []
          },
          "execution_count": 7
        }
      ]
    },
    {
      "cell_type": "code",
      "metadata": {
        "colab": {
          "base_uri": "https://localhost:8080/"
        },
        "id": "R9f4oER0NXSQ",
        "outputId": "4201c802-4eb8-4b68-82a9-65b481099606"
      },
      "source": [
        "data.isnull().sum()"
      ],
      "execution_count": 9,
      "outputs": [
        {
          "output_type": "execute_result",
          "data": {
            "text/plain": [
              "text        0\n",
              "language    1\n",
              "dtype: int64"
            ]
          },
          "metadata": {
            "tags": []
          },
          "execution_count": 9
        }
      ]
    },
    {
      "cell_type": "code",
      "metadata": {
        "id": "ewL57TqXOIwW"
      },
      "source": [
        "data = data.dropna()"
      ],
      "execution_count": 10,
      "outputs": []
    },
    {
      "cell_type": "code",
      "metadata": {
        "colab": {
          "base_uri": "https://localhost:8080/"
        },
        "id": "UxlTMka6OQZZ",
        "outputId": "1835e520-3c31-49bc-b88a-7bd53fe69b42"
      },
      "source": [
        "data.isnull().values.any()"
      ],
      "execution_count": 11,
      "outputs": [
        {
          "output_type": "execute_result",
          "data": {
            "text/plain": [
              "False"
            ]
          },
          "metadata": {
            "tags": []
          },
          "execution_count": 11
        }
      ]
    },
    {
      "cell_type": "markdown",
      "metadata": {
        "id": "nU0zoT1yFh4s"
      },
      "source": [
        "## Label Desc"
      ]
    },
    {
      "cell_type": "code",
      "metadata": {
        "id": "46-clpwMF0Ir"
      },
      "source": [
        "import matplotlib.pyplot as plt\n",
        "import seaborn as sns"
      ],
      "execution_count": 12,
      "outputs": []
    },
    {
      "cell_type": "code",
      "metadata": {
        "colab": {
          "base_uri": "https://localhost:8080/",
          "height": 296
        },
        "id": "D4yyIu2yFgOG",
        "outputId": "24dc6817-598f-4d5b-9877-cdeea2c05b2b"
      },
      "source": [
        "sns.countplot(x='language', data=data)"
      ],
      "execution_count": 14,
      "outputs": [
        {
          "output_type": "execute_result",
          "data": {
            "text/plain": [
              "<matplotlib.axes._subplots.AxesSubplot at 0x7f0a351e9ad0>"
            ]
          },
          "metadata": {
            "tags": []
          },
          "execution_count": 14
        },
        {
          "output_type": "display_data",
          "data": {
            "image/png": "[encoded data removed]",
            "text/plain": [
              "<Figure size 432x288 with 1 Axes>"
            ]
          },
          "metadata": {
            "tags": [],
            "needs_background": "light"
          }
        }
      ]
    },
    {
      "cell_type": "markdown",
      "metadata": {
        "id": "ss9RVLTnH7aG"
      },
      "source": [
        "## One-Hot Encodding"
      ]
    },
    {
      "cell_type": "code",
      "metadata": {
        "colab": {
          "base_uri": "https://localhost:8080/",
          "height": 419
        },
        "id": "EwmebtKlHP29",
        "outputId": "69712ba8-c8df-4c06-fb43-8b451e8f6d7b"
      },
      "source": [
        "language =pd.get_dummies(data.language)\n",
        "datanew = pd.concat([data, language], axis=1)\n",
        "datanew = datanew.drop(columns='language')\n",
        "datanew"
      ],
      "execution_count": 17,
      "outputs": [
        {
          "output_type": "execute_result",
          "data": {
            "text/html": [
              "<div>\n",
              "<style scoped>\n",
              "    .dataframe tbody tr th:only-of-type {\n",
              "        vertical-align: middle;\n",
              "    }\n",
              "\n",
              "    .dataframe tbody tr th {\n",
              "        vertical-align: top;\n",
              "    }\n",
              "\n",
              "    .dataframe thead th {\n",
              "        text-align: right;\n",
              "    }\n",
              "</style>\n",
              "<table border=\"1\" class=\"dataframe\">\n",
              "  <thead>\n",
              "    <tr style=\"text-align: right;\">\n",
              "      <th></th>\n",
              "      <th>text</th>\n",
              "      <th>english</th>\n",
              "      <th>french</th>\n",
              "      <th>german</th>\n",
              "      <th>spanish</th>\n",
              "    </tr>\n",
              "  </thead>\n",
              "  <tbody>\n",
              "    <tr>\n",
              "      <th>0</th>\n",
              "      <td>ich denke es handelt sich hier um ein missvers...</td>\n",
              "      <td>0</td>\n",
              "      <td>0</td>\n",
              "      <td>1</td>\n",
              "      <td>0</td>\n",
              "    </tr>\n",
              "    <tr>\n",
              "      <th>1</th>\n",
              "      <td>ich habe tom gerade erst verlassen</td>\n",
              "      <td>0</td>\n",
              "      <td>0</td>\n",
              "      <td>1</td>\n",
              "      <td>0</td>\n",
              "    </tr>\n",
              "    <tr>\n",
              "      <th>2</th>\n",
              "      <td>tom versuchte mary nur zu ärgern</td>\n",
              "      <td>0</td>\n",
              "      <td>0</td>\n",
              "      <td>1</td>\n",
              "      <td>0</td>\n",
              "    </tr>\n",
              "    <tr>\n",
              "      <th>3</th>\n",
              "      <td>tom hat mir die hand geküsst</td>\n",
              "      <td>0</td>\n",
              "      <td>0</td>\n",
              "      <td>1</td>\n",
              "      <td>0</td>\n",
              "    </tr>\n",
              "    <tr>\n",
              "      <th>4</th>\n",
              "      <td>ich wusste dass dir das gefiele</td>\n",
              "      <td>0</td>\n",
              "      <td>0</td>\n",
              "      <td>1</td>\n",
              "      <td>0</td>\n",
              "    </tr>\n",
              "    <tr>\n",
              "      <th>...</th>\n",
              "      <td>...</td>\n",
              "      <td>...</td>\n",
              "      <td>...</td>\n",
              "      <td>...</td>\n",
              "      <td>...</td>\n",
              "    </tr>\n",
              "    <tr>\n",
              "      <th>517281</th>\n",
              "      <td>tom has his own life to live</td>\n",
              "      <td>1</td>\n",
              "      <td>0</td>\n",
              "      <td>0</td>\n",
              "      <td>0</td>\n",
              "    </tr>\n",
              "    <tr>\n",
              "      <th>517282</th>\n",
              "      <td>tom and mary were sitting when we came in</td>\n",
              "      <td>1</td>\n",
              "      <td>0</td>\n",
              "      <td>0</td>\n",
              "      <td>0</td>\n",
              "    </tr>\n",
              "    <tr>\n",
              "      <th>517283</th>\n",
              "      <td>do you have a pen or pencil</td>\n",
              "      <td>1</td>\n",
              "      <td>0</td>\n",
              "      <td>0</td>\n",
              "      <td>0</td>\n",
              "    </tr>\n",
              "    <tr>\n",
              "      <th>517284</th>\n",
              "      <td>tom fired once</td>\n",
              "      <td>1</td>\n",
              "      <td>0</td>\n",
              "      <td>0</td>\n",
              "      <td>0</td>\n",
              "    </tr>\n",
              "    <tr>\n",
              "      <th>517285</th>\n",
              "      <td>i called my lawyer</td>\n",
              "      <td>1</td>\n",
              "      <td>0</td>\n",
              "      <td>0</td>\n",
              "      <td>0</td>\n",
              "    </tr>\n",
              "  </tbody>\n",
              "</table>\n",
              "<p>517286 rows × 5 columns</p>\n",
              "</div>"
            ],
            "text/plain": [
              "                                                     text  ...  spanish\n",
              "0       ich denke es handelt sich hier um ein missvers...  ...        0\n",
              "1                      ich habe tom gerade erst verlassen  ...        0\n",
              "2                        tom versuchte mary nur zu ärgern  ...        0\n",
              "3                            tom hat mir die hand geküsst  ...        0\n",
              "4                         ich wusste dass dir das gefiele  ...        0\n",
              "...                                                   ...  ...      ...\n",
              "517281                       tom has his own life to live  ...        0\n",
              "517282          tom and mary were sitting when we came in  ...        0\n",
              "517283                        do you have a pen or pencil  ...        0\n",
              "517284                                     tom fired once  ...        0\n",
              "517285                                 i called my lawyer  ...        0\n",
              "\n",
              "[517286 rows x 5 columns]"
            ]
          },
          "metadata": {
            "tags": []
          },
          "execution_count": 17
        }
      ]
    },
    {
      "cell_type": "code",
      "metadata": {
        "id": "in0wggi7H_aF"
      },
      "source": [
        "text = datanew['text'].values\n",
        "label = datanew[['english', 'french', 'german', 'spanish']].values"
      ],
      "execution_count": 18,
      "outputs": []
    },
    {
      "cell_type": "markdown",
      "metadata": {
        "id": "u54WbkgyW4Px"
      },
      "source": [
        "# Split Data"
      ]
    },
    {
      "cell_type": "code",
      "metadata": {
        "id": "FhA3PkEtLA7D"
      },
      "source": [
        "from sklearn.model_selection import train_test_split\n",
        "text_train, text_val, label_train, label_val = train_test_split(text, label, test_size=0.2)"
      ],
      "execution_count": 19,
      "outputs": []
    },
    {
      "cell_type": "markdown",
      "metadata": {
        "id": "eoz1Kqo0eUSP"
      },
      "source": [
        "# Tokenizer & Sequences"
      ]
    },
    {
      "cell_type": "code",
      "metadata": {
        "id": "bka54Gv3PkSs"
      },
      "source": [
        "from tensorflow.keras.preprocessing.text import Tokenizer\n",
        "from tensorflow.keras.preprocessing.sequence import pad_sequences"
      ],
      "execution_count": 20,
      "outputs": []
    },
    {
      "cell_type": "code",
      "metadata": {
        "id": "F-C02J55ZUDv"
      },
      "source": [
        "tokenizer = Tokenizer(num_words=8000, oov_token='<OOV>')\n",
        "tokenizer.fit_on_texts(text_train)\n",
        "tokenizer.fit_on_texts(text_val)"
      ],
      "execution_count": 21,
      "outputs": []
    },
    {
      "cell_type": "code",
      "metadata": {
        "id": "3S-sqojTdY-Z"
      },
      "source": [
        "sequences_train = tokenizer.texts_to_sequences(text_train)\n",
        "sequences_val = tokenizer.texts_to_sequences(text_val)\n",
        "\n",
        "padded_train = pad_sequences(sequences_train) \n",
        "padded_val = pad_sequences(sequences_val)"
      ],
      "execution_count": 22,
      "outputs": []
    },
    {
      "cell_type": "markdown",
      "metadata": {
        "id": "yh8MQF2JeeMb"
      },
      "source": [
        "# Modelling"
      ]
    },
    {
      "cell_type": "code",
      "metadata": {
        "id": "fw2Q0kNneTQ8"
      },
      "source": [
        "import tensorflow as tf\n",
        "from keras.models import Sequential\n",
        "from keras.layers import Dense\n",
        "from keras.layers import LSTM\n",
        "from tensorflow.keras.layers import Activation\n",
        "from keras.layers.embeddings import Embedding\n",
        "from tensorflow.keras.layers import Dropout\n",
        "from tensorflow.keras.optimizers import Adam\n",
        "from tensorflow.keras.callbacks import EarlyStopping"
      ],
      "execution_count": 23,
      "outputs": []
    },
    {
      "cell_type": "markdown",
      "metadata": {
        "id": "D5G5r7Y9ij4B"
      },
      "source": [
        "## Sequential"
      ]
    },
    {
      "cell_type": "code",
      "metadata": {
        "id": "NK8Qije1f-Cv"
      },
      "source": [
        "model = Sequential([\n",
        "    Embedding(input_dim=8000, output_dim=64),\n",
        "    LSTM(32),\n",
        "    Dense(128, activation='relu'),\n",
        "    Dense(64, activation='relu'),\n",
        "    Dropout(0.5),\n",
        "    Dense(4, activation='softmax')\n",
        "])"
      ],
      "execution_count": 24,
      "outputs": []
    },
    {
      "cell_type": "code",
      "metadata": {
        "colab": {
          "base_uri": "https://localhost:8080/"
        },
        "id": "L9VAnj0xiLOi",
        "outputId": "928babeb-23cc-40ac-9578-4e60ca6d5df0"
      },
      "source": [
        "model.summary()"
      ],
      "execution_count": 25,
      "outputs": [
        {
          "output_type": "stream",
          "text": [
            "Model: \"sequential\"\n",
            "_________________________________________________________________\n",
            "Layer (type)                 Output Shape              Param #   \n",
            "=================================================================\n",
            "embedding (Embedding)        (None, None, 64)          512000    \n",
            "_________________________________________________________________\n",
            "lstm (LSTM)                  (None, 32)                12416     \n",
            "_________________________________________________________________\n",
            "dense (Dense)                (None, 128)               4224      \n",
            "_________________________________________________________________\n",
            "dense_1 (Dense)              (None, 64)                8256      \n",
            "_________________________________________________________________\n",
            "module_wrapper (ModuleWrappe (None, 64)                0         \n",
            "_________________________________________________________________\n",
            "dense_2 (Dense)              (None, 4)                 260       \n",
            "=================================================================\n",
            "Total params: 537,156\n",
            "Trainable params: 537,156\n",
            "Non-trainable params: 0\n",
            "_________________________________________________________________\n"
          ],
          "name": "stdout"
        }
      ]
    },
    {
      "cell_type": "markdown",
      "metadata": {
        "id": "PpRk3_HUir3-"
      },
      "source": [
        "## Compile Optimizer"
      ]
    },
    {
      "cell_type": "code",
      "metadata": {
        "id": "ZRUdk6efiMo9"
      },
      "source": [
        "model.compile(\n",
        "    loss='categorical_crossentropy',\n",
        "    optimizer=Adam(),\n",
        "    metrics=['accuracy']\n",
        ")"
      ],
      "execution_count": 26,
      "outputs": []
    },
    {
      "cell_type": "markdown",
      "metadata": {
        "id": "5FCxiSEvi8YU"
      },
      "source": [
        "## Callbacks"
      ]
    },
    {
      "cell_type": "code",
      "metadata": {
        "id": "P_kUju4Zi4Z8"
      },
      "source": [
        "class mycb(tf.keras.callbacks.Callback):\n",
        "  def on_epoch_end(self, epoch, logs=None):\n",
        "    if(logs.get('accuracy') >= 0.92 and logs.get('val_accuracy') >= 0.92):\n",
        "      print('\\nFor Epoch', epoch, '\\nAccuracy has reach = %2.2f%%' %(logs['accuracy']*100), 'stop training.'),\n",
        "      self.model.stop_training = True"
      ],
      "execution_count": 27,
      "outputs": []
    },
    {
      "cell_type": "markdown",
      "metadata": {
        "id": "h0UWCYxzpNFx"
      },
      "source": [
        "# Fit Training"
      ]
    },
    {
      "cell_type": "code",
      "metadata": {
        "colab": {
          "base_uri": "https://localhost:8080/"
        },
        "id": "4N0nFS3kqmsy",
        "outputId": "c3e6a03b-ec5c-40b4-f581-aeeb74fdb7cc"
      },
      "source": [
        "fitmodel = model.fit(padded_train, label_train,\n",
        "                     steps_per_epoch = 25, epochs = 50, \n",
        "                     validation_data = (padded_val, label_val), validation_steps=5,\n",
        "                     verbose=2, callbacks = [mycb()]\n",
        "                     )"
      ],
      "execution_count": 29,
      "outputs": [
        {
          "output_type": "stream",
          "text": [
            "Epoch 1/50\n",
            "25/25 - 165s - loss: 1.2098 - accuracy: 0.4226 - val_loss: 0.9478 - val_accuracy: 0.4892\n",
            "Epoch 2/50\n",
            "25/25 - 158s - loss: 0.5948 - accuracy: 0.8094 - val_loss: 0.2910 - val_accuracy: 0.9212\n",
            "Epoch 3/50\n",
            "25/25 - 157s - loss: 0.2180 - accuracy: 0.9302 - val_loss: 0.1374 - val_accuracy: 0.9347\n",
            "\n",
            "For Epoch 2 \n",
            "Accuracy has reach = 93.02% stop training.\n"
          ],
          "name": "stdout"
        }
      ]
    },
    {
      "cell_type": "markdown",
      "metadata": {
        "id": "DmhJQ7tpVren"
      },
      "source": [
        "# Perbandingan Plot"
      ]
    },
    {
      "cell_type": "markdown",
      "metadata": {
        "id": "cGSeBDnIV5aQ"
      },
      "source": [
        "## Akurasi"
      ]
    },
    {
      "cell_type": "code",
      "metadata": {
        "colab": {
          "base_uri": "https://localhost:8080/",
          "height": 312
        },
        "id": "tylWRiHk3d90",
        "outputId": "982cc5af-9f20-4c3c-c8d6-bb39eb0bb6e1"
      },
      "source": [
        "epochs = range(len(fitmodel.history['accuracy']))\n",
        "\n",
        "plt.plot(epochs, fitmodel.history['accuracy'], label='Training Accuracy', color='blue')\n",
        "plt.plot(fitmodel.history['val_accuracy'], label='Validation Accuracy', color='green')\n",
        "plt.title('Perbandingan Ukuran Akurasi')\n",
        "plt.ylabel('Accuracy')\n",
        "plt.xlabel('Epoch')\n",
        "plt.legend(loc=0)\n",
        "plt.figure()\n",
        "\n",
        "plt.show()"
      ],
      "execution_count": 30,
      "outputs": [
        {
          "output_type": "display_data",
          "data": {
            "image/png": "[encoded data removed]",
            "text/plain": [
              "<Figure size 432x288 with 1 Axes>"
            ]
          },
          "metadata": {
            "tags": [],
            "needs_background": "light"
          }
        },
        {
          "output_type": "display_data",
          "data": {
            "text/plain": [
              "<Figure size 432x288 with 0 Axes>"
            ]
          },
          "metadata": {
            "tags": []
          }
        }
      ]
    },
    {
      "cell_type": "markdown",
      "metadata": {
        "id": "sFMIeukSV8X8"
      },
      "source": [
        "## Loss"
      ]
    },
    {
      "cell_type": "code",
      "metadata": {
        "colab": {
          "base_uri": "https://localhost:8080/",
          "height": 312
        },
        "id": "xXjOQnWY3gfU",
        "outputId": "e6817573-d516-4c70-a201-3662a29cd6da"
      },
      "source": [
        "plt.plot(epochs, fitmodel.history['loss'], label='Training Loss', color='blue')\n",
        "plt.plot(epochs, fitmodel.history['val_loss'], label='Validation Loss', color = 'green')\n",
        "plt.title('Loss Training & Validation')\n",
        "plt.ylabel('Accuracy')\n",
        "plt.xlabel('Epoch')\n",
        "plt.legend(loc=0)\n",
        "plt.figure()\n",
        "\n",
        "plt.show()"
      ],
      "execution_count": 31,
      "outputs": [
        {
          "output_type": "display_data",
          "data": {
            "image/png": "[encoded data removed]",
            "text/plain": [
              "<Figure size 432x288 with 1 Axes>"
            ]
          },
          "metadata": {
            "tags": [],
            "needs_background": "light"
          }
        },
        {
          "output_type": "display_data",
          "data": {
            "text/plain": [
              "<Figure size 432x288 with 0 Axes>"
            ]
          },
          "metadata": {
            "tags": []
          }
        }
      ]
    }
  ]
}